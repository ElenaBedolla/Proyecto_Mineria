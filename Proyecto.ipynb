{
  "nbformat": 4,
  "nbformat_minor": 0,
  "metadata": {
    "colab": {
      "name": "Proyecto.ipynb",
      "provenance": [],
      "collapsed_sections": []
    },
    "kernelspec": {
      "name": "python3",
      "display_name": "Python 3"
    }
  },
  "cells": [
    {
      "cell_type": "code",
      "metadata": {
        "colab": {
          "base_uri": "https://localhost:8080/"
        },
        "id": "yUnqRe4-xLBL",
        "outputId": "8d3590f9-44b8-45c8-e11b-a47d9cc2c86f"
      },
      "source": [
        "import pandas as pd\r\n",
        "import numpy as np\r\n",
        "import string\r\n",
        "from math import *\r\n",
        "from collections import *\r\n",
        "\r\n",
        "import nltk\r\n",
        "from nltk.stem.lancaster import LancasterStemmer\r\n",
        "from nltk.stem import WordNetLemmatizer\r\n",
        "from nltk.corpus import wordnet\r\n",
        "\r\n",
        "from mlxtend.frequent_patterns import apriori\r\n",
        "from mlxtend.preprocessing import TransactionEncoder\r\n",
        "from mlxtend.frequent_patterns import association_rules\r\n",
        "\r\n",
        "from scipy.sparse.linalg import svds\r\n",
        "from scipy.sparse import coo_matrix\r\n",
        "from scipy.linalg import svd\r\n",
        "\r\n",
        "from sklearn.feature_extraction.text import CountVectorizer\r\n",
        "from sklearn.cluster import KMeans\r\n",
        "from sklearn.metrics import silhouette_samples\r\n",
        "\r\n",
        "from matplotlib import cm\r\n",
        "\r\n",
        "import matplotlib.pyplot as plt\r\n",
        "\r\n",
        "nltk.download('stopwords')\r\n",
        "nltk.download('wordnet')"
      ],
      "execution_count": null,
      "outputs": [
        {
          "output_type": "stream",
          "text": [
            "[nltk_data] Downloading package stopwords to /root/nltk_data...\n",
            "[nltk_data]   Package stopwords is already up-to-date!\n",
            "[nltk_data] Downloading package wordnet to /root/nltk_data...\n",
            "[nltk_data]   Package wordnet is already up-to-date!\n"
          ],
          "name": "stdout"
        },
        {
          "output_type": "execute_result",
          "data": {
            "text/plain": [
              "True"
            ]
          },
          "metadata": {
            "tags": []
          },
          "execution_count": 1
        }
      ]
    },
    {
      "cell_type": "code",
      "metadata": {
        "colab": {
          "base_uri": "https://localhost:8080/"
        },
        "id": "ZhpqtkKxzvPh",
        "outputId": "066dd25b-a576-4667-a1c6-dc762c0b27a1"
      },
      "source": [
        "cd /content/drive/MyDrive/Proyecto_Mineria_Datos"
      ],
      "execution_count": null,
      "outputs": [
        {
          "output_type": "stream",
          "text": [
            "/content/drive/MyDrive/Proyecto_Mineria_Datos\n"
          ],
          "name": "stdout"
        }
      ]
    },
    {
      "cell_type": "code",
      "metadata": {
        "id": "N2NdFzCk0JGF"
      },
      "source": [
        "data = pd.read_csv('Womens Clothing E-Commerce Reviews.csv')"
      ],
      "execution_count": null,
      "outputs": []
    },
    {
      "cell_type": "code",
      "metadata": {
        "colab": {
          "base_uri": "https://localhost:8080/"
        },
        "id": "pMHLHmOXAau2",
        "outputId": "72e465b5-a329-4d18-9cc1-e93bd8fa2a34"
      },
      "source": [
        "data.info()"
      ],
      "execution_count": null,
      "outputs": [
        {
          "output_type": "stream",
          "text": [
            "<class 'pandas.core.frame.DataFrame'>\n",
            "RangeIndex: 23486 entries, 0 to 23485\n",
            "Data columns (total 11 columns):\n",
            " #   Column                   Non-Null Count  Dtype \n",
            "---  ------                   --------------  ----- \n",
            " 0   Unnamed: 0               23486 non-null  int64 \n",
            " 1   Clothing ID              23486 non-null  int64 \n",
            " 2   Age                      23486 non-null  int64 \n",
            " 3   Title                    19676 non-null  object\n",
            " 4   Review Text              22641 non-null  object\n",
            " 5   Rating                   23486 non-null  int64 \n",
            " 6   Recommended IND          23486 non-null  int64 \n",
            " 7   Positive Feedback Count  23486 non-null  int64 \n",
            " 8   Division Name            23472 non-null  object\n",
            " 9   Department Name          23472 non-null  object\n",
            " 10  Class Name               23472 non-null  object\n",
            "dtypes: int64(6), object(5)\n",
            "memory usage: 2.0+ MB\n"
          ],
          "name": "stdout"
        }
      ]
    },
    {
      "cell_type": "code",
      "metadata": {
        "id": "2SxMrYM0_8Gl"
      },
      "source": [
        "data.dropna(subset=['Review Text'], inplace=True)"
      ],
      "execution_count": null,
      "outputs": []
    },
    {
      "cell_type": "code",
      "metadata": {
        "colab": {
          "base_uri": "https://localhost:8080/"
        },
        "id": "F7dIlC2yAcIn",
        "outputId": "9abde166-f356-4792-eada-22ebe30c4496"
      },
      "source": [
        "data.info()"
      ],
      "execution_count": null,
      "outputs": [
        {
          "output_type": "stream",
          "text": [
            "<class 'pandas.core.frame.DataFrame'>\n",
            "Int64Index: 22641 entries, 0 to 23485\n",
            "Data columns (total 11 columns):\n",
            " #   Column                   Non-Null Count  Dtype \n",
            "---  ------                   --------------  ----- \n",
            " 0   Unnamed: 0               22641 non-null  int64 \n",
            " 1   Clothing ID              22641 non-null  int64 \n",
            " 2   Age                      22641 non-null  int64 \n",
            " 3   Title                    19675 non-null  object\n",
            " 4   Review Text              22641 non-null  object\n",
            " 5   Rating                   22641 non-null  int64 \n",
            " 6   Recommended IND          22641 non-null  int64 \n",
            " 7   Positive Feedback Count  22641 non-null  int64 \n",
            " 8   Division Name            22628 non-null  object\n",
            " 9   Department Name          22628 non-null  object\n",
            " 10  Class Name               22628 non-null  object\n",
            "dtypes: int64(6), object(5)\n",
            "memory usage: 2.1+ MB\n"
          ],
          "name": "stdout"
        }
      ]
    },
    {
      "cell_type": "code",
      "metadata": {
        "colab": {
          "base_uri": "https://localhost:8080/",
          "height": 206
        },
        "id": "62w2aJ9s02NP",
        "outputId": "956e2d5e-b56c-4d58-9c71-5cc71c9f73e8"
      },
      "source": [
        "data.head()"
      ],
      "execution_count": null,
      "outputs": [
        {
          "output_type": "execute_result",
          "data": {
            "text/html": [
              "<div>\n",
              "<style scoped>\n",
              "    .dataframe tbody tr th:only-of-type {\n",
              "        vertical-align: middle;\n",
              "    }\n",
              "\n",
              "    .dataframe tbody tr th {\n",
              "        vertical-align: top;\n",
              "    }\n",
              "\n",
              "    .dataframe thead th {\n",
              "        text-align: right;\n",
              "    }\n",
              "</style>\n",
              "<table border=\"1\" class=\"dataframe\">\n",
              "  <thead>\n",
              "    <tr style=\"text-align: right;\">\n",
              "      <th></th>\n",
              "      <th>Unnamed: 0</th>\n",
              "      <th>Clothing ID</th>\n",
              "      <th>Age</th>\n",
              "      <th>Title</th>\n",
              "      <th>Review Text</th>\n",
              "      <th>Rating</th>\n",
              "      <th>Recommended IND</th>\n",
              "      <th>Positive Feedback Count</th>\n",
              "      <th>Division Name</th>\n",
              "      <th>Department Name</th>\n",
              "      <th>Class Name</th>\n",
              "    </tr>\n",
              "  </thead>\n",
              "  <tbody>\n",
              "    <tr>\n",
              "      <th>0</th>\n",
              "      <td>0</td>\n",
              "      <td>767</td>\n",
              "      <td>33</td>\n",
              "      <td>NaN</td>\n",
              "      <td>Absolutely wonderful - silky and sexy and comf...</td>\n",
              "      <td>4</td>\n",
              "      <td>1</td>\n",
              "      <td>0</td>\n",
              "      <td>Initmates</td>\n",
              "      <td>Intimate</td>\n",
              "      <td>Intimates</td>\n",
              "    </tr>\n",
              "    <tr>\n",
              "      <th>1</th>\n",
              "      <td>1</td>\n",
              "      <td>1080</td>\n",
              "      <td>34</td>\n",
              "      <td>NaN</td>\n",
              "      <td>Love this dress!  it's sooo pretty.  i happene...</td>\n",
              "      <td>5</td>\n",
              "      <td>1</td>\n",
              "      <td>4</td>\n",
              "      <td>General</td>\n",
              "      <td>Dresses</td>\n",
              "      <td>Dresses</td>\n",
              "    </tr>\n",
              "    <tr>\n",
              "      <th>2</th>\n",
              "      <td>2</td>\n",
              "      <td>1077</td>\n",
              "      <td>60</td>\n",
              "      <td>Some major design flaws</td>\n",
              "      <td>I had such high hopes for this dress and reall...</td>\n",
              "      <td>3</td>\n",
              "      <td>0</td>\n",
              "      <td>0</td>\n",
              "      <td>General</td>\n",
              "      <td>Dresses</td>\n",
              "      <td>Dresses</td>\n",
              "    </tr>\n",
              "    <tr>\n",
              "      <th>3</th>\n",
              "      <td>3</td>\n",
              "      <td>1049</td>\n",
              "      <td>50</td>\n",
              "      <td>My favorite buy!</td>\n",
              "      <td>I love, love, love this jumpsuit. it's fun, fl...</td>\n",
              "      <td>5</td>\n",
              "      <td>1</td>\n",
              "      <td>0</td>\n",
              "      <td>General Petite</td>\n",
              "      <td>Bottoms</td>\n",
              "      <td>Pants</td>\n",
              "    </tr>\n",
              "    <tr>\n",
              "      <th>4</th>\n",
              "      <td>4</td>\n",
              "      <td>847</td>\n",
              "      <td>47</td>\n",
              "      <td>Flattering shirt</td>\n",
              "      <td>This shirt is very flattering to all due to th...</td>\n",
              "      <td>5</td>\n",
              "      <td>1</td>\n",
              "      <td>6</td>\n",
              "      <td>General</td>\n",
              "      <td>Tops</td>\n",
              "      <td>Blouses</td>\n",
              "    </tr>\n",
              "  </tbody>\n",
              "</table>\n",
              "</div>"
            ],
            "text/plain": [
              "   Unnamed: 0  Clothing ID  Age  ...   Division Name Department Name  Class Name\n",
              "0           0          767   33  ...       Initmates        Intimate   Intimates\n",
              "1           1         1080   34  ...         General         Dresses     Dresses\n",
              "2           2         1077   60  ...         General         Dresses     Dresses\n",
              "3           3         1049   50  ...  General Petite         Bottoms       Pants\n",
              "4           4          847   47  ...         General            Tops     Blouses\n",
              "\n",
              "[5 rows x 11 columns]"
            ]
          },
          "metadata": {
            "tags": []
          },
          "execution_count": 7
        }
      ]
    },
    {
      "cell_type": "code",
      "metadata": {
        "id": "-JljanuO0jN9"
      },
      "source": [
        "data.drop(columns='Unnamed: 0', inplace=True)"
      ],
      "execution_count": null,
      "outputs": []
    },
    {
      "cell_type": "markdown",
      "metadata": {
        "id": "xQP1FUiM09Ip"
      },
      "source": [
        "Extraer frecuencias de palabras del texto"
      ]
    },
    {
      "cell_type": "code",
      "metadata": {
        "colab": {
          "base_uri": "https://localhost:8080/",
          "height": 281
        },
        "id": "CWQ3o72W0wo2",
        "outputId": "ba8446aa-d255-4229-8a20-f0fc9bfef522"
      },
      "source": [
        "data_hist = data[['Age', 'Rating', 'Recommended IND', 'Positive Feedback Count']].copy()\r\n",
        "hist = data_hist.hist()"
      ],
      "execution_count": null,
      "outputs": [
        {
          "output_type": "display_data",
          "data": {
            "image/png": "[encoded data removed]",
            "text/plain": [
              "<Figure size 432x288 with 4 Axes>"
            ]
          },
          "metadata": {
            "tags": [],
            "needs_background": "light"
          }
        }
      ]
    },
    {
      "cell_type": "code",
      "metadata": {
        "colab": {
          "base_uri": "https://localhost:8080/",
          "height": 372
        },
        "id": "pgr67rAm2_mg",
        "outputId": "4325d276-a166-4b00-fc99-0ae77df69205"
      },
      "source": [
        "data_freq = data[['Division Name']].copy()\r\n",
        "vals = data_freq.value_counts()\r\n",
        "vals.plot(kind='bar')"
      ],
      "execution_count": null,
      "outputs": [
        {
          "output_type": "execute_result",
          "data": {
            "text/plain": [
              "<matplotlib.axes._subplots.AxesSubplot at 0x7f9a7e012358>"
            ]
          },
          "metadata": {
            "tags": []
          },
          "execution_count": 10
        },
        {
          "output_type": "display_data",
          "data": {
            "image/png": "[encoded data removed]",
            "text/plain": [
              "<Figure size 432x288 with 1 Axes>"
            ]
          },
          "metadata": {
            "tags": [],
            "needs_background": "light"
          }
        }
      ]
    },
    {
      "cell_type": "code",
      "metadata": {
        "colab": {
          "base_uri": "https://localhost:8080/",
          "height": 339
        },
        "id": "JZ48LxGw4AjK",
        "outputId": "4f3fdb03-9c67-4419-c3cd-8832888d0e19"
      },
      "source": [
        "data_freq = data[['Department Name']].copy()\r\n",
        "vals = data_freq.value_counts()\r\n",
        "vals.plot(kind='bar')"
      ],
      "execution_count": null,
      "outputs": [
        {
          "output_type": "execute_result",
          "data": {
            "text/plain": [
              "<matplotlib.axes._subplots.AxesSubplot at 0x7f9a7dac8550>"
            ]
          },
          "metadata": {
            "tags": []
          },
          "execution_count": 11
        },
        {
          "output_type": "display_data",
          "data": {
            "image/png": "[encoded data removed]",
            "text/plain": [
              "<Figure size 432x288 with 1 Axes>"
            ]
          },
          "metadata": {
            "tags": [],
            "needs_background": "light"
          }
        }
      ]
    },
    {
      "cell_type": "code",
      "metadata": {
        "colab": {
          "base_uri": "https://localhost:8080/",
          "height": 375
        },
        "id": "DhfjwQzu4Y9A",
        "outputId": "68a7d5d0-c0c0-434a-b947-5f3d8acd7d65"
      },
      "source": [
        "data_freq = data[['Class Name']].copy()\r\n",
        "vals = data_freq.value_counts()\r\n",
        "vals.plot(kind='bar')"
      ],
      "execution_count": null,
      "outputs": [
        {
          "output_type": "execute_result",
          "data": {
            "text/plain": [
              "<matplotlib.axes._subplots.AxesSubplot at 0x7f9a7dac21d0>"
            ]
          },
          "metadata": {
            "tags": []
          },
          "execution_count": 12
        },
        {
          "output_type": "display_data",
          "data": {
            "image/png": "[encoded data removed]",
            "text/plain": [
              "<Figure size 432x288 with 1 Axes>"
            ]
          },
          "metadata": {
            "tags": [],
            "needs_background": "light"
          }
        }
      ]
    },
    {
      "cell_type": "code",
      "metadata": {
        "id": "3AdzIp0klGO8"
      },
      "source": [
        "#pd.get_dummies(data,columns=['Division Name', 'Department Name', 'Class Name'])"
      ],
      "execution_count": null,
      "outputs": []
    },
    {
      "cell_type": "code",
      "metadata": {
        "id": "xgAbU9BbmZyr"
      },
      "source": [
        "data_OHE = pd.get_dummies(data, columns=['Division Name', 'Department Name', 'Class Name']).drop(columns=['Clothing ID', 'Title', 'Review Text'])"
      ],
      "execution_count": null,
      "outputs": []
    },
    {
      "cell_type": "code",
      "metadata": {
        "colab": {
          "base_uri": "https://localhost:8080/",
          "height": 261
        },
        "id": "KWmAFJNHm_pK",
        "outputId": "154962ea-a452-41f1-bdf9-926d2b066024"
      },
      "source": [
        "data_OHE.head()"
      ],
      "execution_count": null,
      "outputs": [
        {
          "output_type": "execute_result",
          "data": {
            "text/html": [
              "<div>\n",
              "<style scoped>\n",
              "    .dataframe tbody tr th:only-of-type {\n",
              "        vertical-align: middle;\n",
              "    }\n",
              "\n",
              "    .dataframe tbody tr th {\n",
              "        vertical-align: top;\n",
              "    }\n",
              "\n",
              "    .dataframe thead th {\n",
              "        text-align: right;\n",
              "    }\n",
              "</style>\n",
              "<table border=\"1\" class=\"dataframe\">\n",
              "  <thead>\n",
              "    <tr style=\"text-align: right;\">\n",
              "      <th></th>\n",
              "      <th>Age</th>\n",
              "      <th>Rating</th>\n",
              "      <th>Recommended IND</th>\n",
              "      <th>Positive Feedback Count</th>\n",
              "      <th>Division Name_General</th>\n",
              "      <th>Division Name_General Petite</th>\n",
              "      <th>Division Name_Initmates</th>\n",
              "      <th>Department Name_Bottoms</th>\n",
              "      <th>Department Name_Dresses</th>\n",
              "      <th>Department Name_Intimate</th>\n",
              "      <th>Department Name_Jackets</th>\n",
              "      <th>Department Name_Tops</th>\n",
              "      <th>Department Name_Trend</th>\n",
              "      <th>Class Name_Blouses</th>\n",
              "      <th>Class Name_Casual bottoms</th>\n",
              "      <th>Class Name_Chemises</th>\n",
              "      <th>Class Name_Dresses</th>\n",
              "      <th>Class Name_Fine gauge</th>\n",
              "      <th>Class Name_Intimates</th>\n",
              "      <th>Class Name_Jackets</th>\n",
              "      <th>Class Name_Jeans</th>\n",
              "      <th>Class Name_Knits</th>\n",
              "      <th>Class Name_Layering</th>\n",
              "      <th>Class Name_Legwear</th>\n",
              "      <th>Class Name_Lounge</th>\n",
              "      <th>Class Name_Outerwear</th>\n",
              "      <th>Class Name_Pants</th>\n",
              "      <th>Class Name_Shorts</th>\n",
              "      <th>Class Name_Skirts</th>\n",
              "      <th>Class Name_Sleep</th>\n",
              "      <th>Class Name_Sweaters</th>\n",
              "      <th>Class Name_Swim</th>\n",
              "      <th>Class Name_Trend</th>\n",
              "    </tr>\n",
              "  </thead>\n",
              "  <tbody>\n",
              "    <tr>\n",
              "      <th>0</th>\n",
              "      <td>33</td>\n",
              "      <td>4</td>\n",
              "      <td>1</td>\n",
              "      <td>0</td>\n",
              "      <td>0</td>\n",
              "      <td>0</td>\n",
              "      <td>1</td>\n",
              "      <td>0</td>\n",
              "      <td>0</td>\n",
              "      <td>1</td>\n",
              "      <td>0</td>\n",
              "      <td>0</td>\n",
              "      <td>0</td>\n",
              "      <td>0</td>\n",
              "      <td>0</td>\n",
              "      <td>0</td>\n",
              "      <td>0</td>\n",
              "      <td>0</td>\n",
              "      <td>1</td>\n",
              "      <td>0</td>\n",
              "      <td>0</td>\n",
              "      <td>0</td>\n",
              "      <td>0</td>\n",
              "      <td>0</td>\n",
              "      <td>0</td>\n",
              "      <td>0</td>\n",
              "      <td>0</td>\n",
              "      <td>0</td>\n",
              "      <td>0</td>\n",
              "      <td>0</td>\n",
              "      <td>0</td>\n",
              "      <td>0</td>\n",
              "      <td>0</td>\n",
              "    </tr>\n",
              "    <tr>\n",
              "      <th>1</th>\n",
              "      <td>34</td>\n",
              "      <td>5</td>\n",
              "      <td>1</td>\n",
              "      <td>4</td>\n",
              "      <td>1</td>\n",
              "      <td>0</td>\n",
              "      <td>0</td>\n",
              "      <td>0</td>\n",
              "      <td>1</td>\n",
              "      <td>0</td>\n",
              "      <td>0</td>\n",
              "      <td>0</td>\n",
              "      <td>0</td>\n",
              "      <td>0</td>\n",
              "      <td>0</td>\n",
              "      <td>0</td>\n",
              "      <td>1</td>\n",
              "      <td>0</td>\n",
              "      <td>0</td>\n",
              "      <td>0</td>\n",
              "      <td>0</td>\n",
              "      <td>0</td>\n",
              "      <td>0</td>\n",
              "      <td>0</td>\n",
              "      <td>0</td>\n",
              "      <td>0</td>\n",
              "      <td>0</td>\n",
              "      <td>0</td>\n",
              "      <td>0</td>\n",
              "      <td>0</td>\n",
              "      <td>0</td>\n",
              "      <td>0</td>\n",
              "      <td>0</td>\n",
              "    </tr>\n",
              "    <tr>\n",
              "      <th>2</th>\n",
              "      <td>60</td>\n",
              "      <td>3</td>\n",
              "      <td>0</td>\n",
              "      <td>0</td>\n",
              "      <td>1</td>\n",
              "      <td>0</td>\n",
              "      <td>0</td>\n",
              "      <td>0</td>\n",
              "      <td>1</td>\n",
              "      <td>0</td>\n",
              "      <td>0</td>\n",
              "      <td>0</td>\n",
              "      <td>0</td>\n",
              "      <td>0</td>\n",
              "      <td>0</td>\n",
              "      <td>0</td>\n",
              "      <td>1</td>\n",
              "      <td>0</td>\n",
              "      <td>0</td>\n",
              "      <td>0</td>\n",
              "      <td>0</td>\n",
              "      <td>0</td>\n",
              "      <td>0</td>\n",
              "      <td>0</td>\n",
              "      <td>0</td>\n",
              "      <td>0</td>\n",
              "      <td>0</td>\n",
              "      <td>0</td>\n",
              "      <td>0</td>\n",
              "      <td>0</td>\n",
              "      <td>0</td>\n",
              "      <td>0</td>\n",
              "      <td>0</td>\n",
              "    </tr>\n",
              "    <tr>\n",
              "      <th>3</th>\n",
              "      <td>50</td>\n",
              "      <td>5</td>\n",
              "      <td>1</td>\n",
              "      <td>0</td>\n",
              "      <td>0</td>\n",
              "      <td>1</td>\n",
              "      <td>0</td>\n",
              "      <td>1</td>\n",
              "      <td>0</td>\n",
              "      <td>0</td>\n",
              "      <td>0</td>\n",
              "      <td>0</td>\n",
              "      <td>0</td>\n",
              "      <td>0</td>\n",
              "      <td>0</td>\n",
              "      <td>0</td>\n",
              "      <td>0</td>\n",
              "      <td>0</td>\n",
              "      <td>0</td>\n",
              "      <td>0</td>\n",
              "      <td>0</td>\n",
              "      <td>0</td>\n",
              "      <td>0</td>\n",
              "      <td>0</td>\n",
              "      <td>0</td>\n",
              "      <td>0</td>\n",
              "      <td>1</td>\n",
              "      <td>0</td>\n",
              "      <td>0</td>\n",
              "      <td>0</td>\n",
              "      <td>0</td>\n",
              "      <td>0</td>\n",
              "      <td>0</td>\n",
              "    </tr>\n",
              "    <tr>\n",
              "      <th>4</th>\n",
              "      <td>47</td>\n",
              "      <td>5</td>\n",
              "      <td>1</td>\n",
              "      <td>6</td>\n",
              "      <td>1</td>\n",
              "      <td>0</td>\n",
              "      <td>0</td>\n",
              "      <td>0</td>\n",
              "      <td>0</td>\n",
              "      <td>0</td>\n",
              "      <td>0</td>\n",
              "      <td>1</td>\n",
              "      <td>0</td>\n",
              "      <td>1</td>\n",
              "      <td>0</td>\n",
              "      <td>0</td>\n",
              "      <td>0</td>\n",
              "      <td>0</td>\n",
              "      <td>0</td>\n",
              "      <td>0</td>\n",
              "      <td>0</td>\n",
              "      <td>0</td>\n",
              "      <td>0</td>\n",
              "      <td>0</td>\n",
              "      <td>0</td>\n",
              "      <td>0</td>\n",
              "      <td>0</td>\n",
              "      <td>0</td>\n",
              "      <td>0</td>\n",
              "      <td>0</td>\n",
              "      <td>0</td>\n",
              "      <td>0</td>\n",
              "      <td>0</td>\n",
              "    </tr>\n",
              "  </tbody>\n",
              "</table>\n",
              "</div>"
            ],
            "text/plain": [
              "   Age  Rating  ...  Class Name_Swim  Class Name_Trend\n",
              "0   33       4  ...                0                 0\n",
              "1   34       5  ...                0                 0\n",
              "2   60       3  ...                0                 0\n",
              "3   50       5  ...                0                 0\n",
              "4   47       5  ...                0                 0\n",
              "\n",
              "[5 rows x 33 columns]"
            ]
          },
          "metadata": {
            "tags": []
          },
          "execution_count": 15
        }
      ]
    },
    {
      "cell_type": "code",
      "metadata": {
        "id": "0q3niGZD4ebl"
      },
      "source": [
        "def quitar_puntuacion(x):\r\n",
        "    return ''.join([i for i in x if i not in string.punctuation])"
      ],
      "execution_count": null,
      "outputs": []
    },
    {
      "cell_type": "code",
      "metadata": {
        "id": "GMCJsz28D4eX"
      },
      "source": [
        "def quitar_stopwords(x, stopwords):\r\n",
        "  extra_stopwords = ['im', 'also', 'would', 'like', 'really']\r\n",
        "  return ' '.join([word for word in x.split(' ') if word not in stopwords+extra_stopwords])"
      ],
      "execution_count": null,
      "outputs": []
    },
    {
      "cell_type": "code",
      "metadata": {
        "id": "qqkhDKOk-INz"
      },
      "source": [
        "lemmatizer = WordNetLemmatizer()\r\n",
        "\r\n",
        "def lemmatize(x):\r\n",
        "    return ' '.join([lemmatizer.lemmatize(word) for word in x.split(' ')])"
      ],
      "execution_count": null,
      "outputs": []
    },
    {
      "cell_type": "code",
      "metadata": {
        "id": "IGVXRqUUx5ig"
      },
      "source": [
        "data['Text_minusculas'] = data['Review Text'].apply(lambda x: x.lower())"
      ],
      "execution_count": null,
      "outputs": []
    },
    {
      "cell_type": "code",
      "metadata": {
        "id": "nnFFK1MM-UiH"
      },
      "source": [
        "data['Text_no_punct'] = data['Text_minusculas'].apply(lambda x: quitar_puntuacion(x))"
      ],
      "execution_count": null,
      "outputs": []
    },
    {
      "cell_type": "code",
      "metadata": {
        "id": "6eIChpUI_dDJ"
      },
      "source": [
        "stopwords = nltk.corpus.stopwords.words('english')\r\n",
        "\r\n",
        "data['Text_no_stop'] = data['Text_no_punct'].apply(lambda x: quitar_stopwords(x, stopwords))"
      ],
      "execution_count": null,
      "outputs": []
    },
    {
      "cell_type": "code",
      "metadata": {
        "id": "I9OildDnC6Mc"
      },
      "source": [
        "data['Text_lemmatized'] = data['Text_no_stop'].apply(lambda x: lemmatize(x))"
      ],
      "execution_count": null,
      "outputs": []
    },
    {
      "cell_type": "code",
      "metadata": {
        "colab": {
          "base_uri": "https://localhost:8080/",
          "height": 397
        },
        "id": "c41grPqFFXuM",
        "outputId": "f70fa7b9-ada3-4e38-a6f7-f0af58e0d6ed"
      },
      "source": [
        "data.head()"
      ],
      "execution_count": null,
      "outputs": [
        {
          "output_type": "execute_result",
          "data": {
            "text/html": [
              "<div>\n",
              "<style scoped>\n",
              "    .dataframe tbody tr th:only-of-type {\n",
              "        vertical-align: middle;\n",
              "    }\n",
              "\n",
              "    .dataframe tbody tr th {\n",
              "        vertical-align: top;\n",
              "    }\n",
              "\n",
              "    .dataframe thead th {\n",
              "        text-align: right;\n",
              "    }\n",
              "</style>\n",
              "<table border=\"1\" class=\"dataframe\">\n",
              "  <thead>\n",
              "    <tr style=\"text-align: right;\">\n",
              "      <th></th>\n",
              "      <th>Clothing ID</th>\n",
              "      <th>Age</th>\n",
              "      <th>Title</th>\n",
              "      <th>Review Text</th>\n",
              "      <th>Rating</th>\n",
              "      <th>Recommended IND</th>\n",
              "      <th>Positive Feedback Count</th>\n",
              "      <th>Division Name</th>\n",
              "      <th>Department Name</th>\n",
              "      <th>Class Name</th>\n",
              "      <th>Text_minusculas</th>\n",
              "      <th>Text_no_punct</th>\n",
              "      <th>Text_no_stop</th>\n",
              "      <th>Text_lemmatized</th>\n",
              "    </tr>\n",
              "  </thead>\n",
              "  <tbody>\n",
              "    <tr>\n",
              "      <th>0</th>\n",
              "      <td>767</td>\n",
              "      <td>33</td>\n",
              "      <td>NaN</td>\n",
              "      <td>Absolutely wonderful - silky and sexy and comf...</td>\n",
              "      <td>4</td>\n",
              "      <td>1</td>\n",
              "      <td>0</td>\n",
              "      <td>Initmates</td>\n",
              "      <td>Intimate</td>\n",
              "      <td>Intimates</td>\n",
              "      <td>absolutely wonderful - silky and sexy and comf...</td>\n",
              "      <td>absolutely wonderful  silky and sexy and comfo...</td>\n",
              "      <td>absolutely wonderful  silky sexy comfortable</td>\n",
              "      <td>absolutely wonderful  silky sexy comfortable</td>\n",
              "    </tr>\n",
              "    <tr>\n",
              "      <th>1</th>\n",
              "      <td>1080</td>\n",
              "      <td>34</td>\n",
              "      <td>NaN</td>\n",
              "      <td>Love this dress!  it's sooo pretty.  i happene...</td>\n",
              "      <td>5</td>\n",
              "      <td>1</td>\n",
              "      <td>4</td>\n",
              "      <td>General</td>\n",
              "      <td>Dresses</td>\n",
              "      <td>Dresses</td>\n",
              "      <td>love this dress!  it's sooo pretty.  i happene...</td>\n",
              "      <td>love this dress  its sooo pretty  i happened t...</td>\n",
              "      <td>love dress  sooo pretty  happened find store g...</td>\n",
              "      <td>love dress  sooo pretty  happened find store g...</td>\n",
              "    </tr>\n",
              "    <tr>\n",
              "      <th>2</th>\n",
              "      <td>1077</td>\n",
              "      <td>60</td>\n",
              "      <td>Some major design flaws</td>\n",
              "      <td>I had such high hopes for this dress and reall...</td>\n",
              "      <td>3</td>\n",
              "      <td>0</td>\n",
              "      <td>0</td>\n",
              "      <td>General</td>\n",
              "      <td>Dresses</td>\n",
              "      <td>Dresses</td>\n",
              "      <td>i had such high hopes for this dress and reall...</td>\n",
              "      <td>i had such high hopes for this dress and reall...</td>\n",
              "      <td>high hopes dress wanted work initially ordered...</td>\n",
              "      <td>high hope dress wanted work initially ordered ...</td>\n",
              "    </tr>\n",
              "    <tr>\n",
              "      <th>3</th>\n",
              "      <td>1049</td>\n",
              "      <td>50</td>\n",
              "      <td>My favorite buy!</td>\n",
              "      <td>I love, love, love this jumpsuit. it's fun, fl...</td>\n",
              "      <td>5</td>\n",
              "      <td>1</td>\n",
              "      <td>0</td>\n",
              "      <td>General Petite</td>\n",
              "      <td>Bottoms</td>\n",
              "      <td>Pants</td>\n",
              "      <td>i love, love, love this jumpsuit. it's fun, fl...</td>\n",
              "      <td>i love love love this jumpsuit its fun flirty ...</td>\n",
              "      <td>love love love jumpsuit fun flirty fabulous ev...</td>\n",
              "      <td>love love love jumpsuit fun flirty fabulous ev...</td>\n",
              "    </tr>\n",
              "    <tr>\n",
              "      <th>4</th>\n",
              "      <td>847</td>\n",
              "      <td>47</td>\n",
              "      <td>Flattering shirt</td>\n",
              "      <td>This shirt is very flattering to all due to th...</td>\n",
              "      <td>5</td>\n",
              "      <td>1</td>\n",
              "      <td>6</td>\n",
              "      <td>General</td>\n",
              "      <td>Tops</td>\n",
              "      <td>Blouses</td>\n",
              "      <td>this shirt is very flattering to all due to th...</td>\n",
              "      <td>this shirt is very flattering to all due to th...</td>\n",
              "      <td>shirt flattering due adjustable front tie perf...</td>\n",
              "      <td>shirt flattering due adjustable front tie perf...</td>\n",
              "    </tr>\n",
              "  </tbody>\n",
              "</table>\n",
              "</div>"
            ],
            "text/plain": [
              "   Clothing ID  ...                                    Text_lemmatized\n",
              "0          767  ...       absolutely wonderful  silky sexy comfortable\n",
              "1         1080  ...  love dress  sooo pretty  happened find store g...\n",
              "2         1077  ...  high hope dress wanted work initially ordered ...\n",
              "3         1049  ...  love love love jumpsuit fun flirty fabulous ev...\n",
              "4          847  ...  shirt flattering due adjustable front tie perf...\n",
              "\n",
              "[5 rows x 14 columns]"
            ]
          },
          "metadata": {
            "tags": []
          },
          "execution_count": 23
        }
      ]
    },
    {
      "cell_type": "code",
      "metadata": {
        "id": "EA2orbVxGwmN"
      },
      "source": [
        "text = data['Text_lemmatized']\r\n",
        "vectorizer = CountVectorizer(min_df = 1, lowercase=False)\r\n",
        "X = vectorizer.fit_transform(text)\r\n",
        "X_coo = coo_matrix(vectorizer.fit_transform(text), dtype=np.float64).tocsc()"
      ],
      "execution_count": null,
      "outputs": []
    },
    {
      "cell_type": "code",
      "metadata": {
        "id": "dofcppSjPQkx"
      },
      "source": [
        "u, s, vt = svds(X_coo)"
      ],
      "execution_count": null,
      "outputs": []
    },
    {
      "cell_type": "code",
      "metadata": {
        "id": "UMmncqeRNuIA"
      },
      "source": [
        "#fig = plt.figure()\r\n",
        "#ax = fig.add_subplot(111, projection='3d')\r\n",
        "\r\n",
        "SVD = u[:,:8] * s[:8]\r\n",
        "\r\n",
        "#ax.plot(SVD[:,0], SVD[:,1], SVD[:,2], 'o')\r\n",
        "#plt.show()"
      ],
      "execution_count": null,
      "outputs": []
    },
    {
      "cell_type": "markdown",
      "metadata": {
        "id": "BE1QPbG1U-ir"
      },
      "source": [
        "Se usará un método del codo avanzado que usa como parte de su criterio derivadas para medir el cambio experimentado. Se pretende encontrar el primer codo tal que su segunda derivada sea localmente mayor. Dicha derivada indica el grado de cambio de un punto a otro, pudiéndose usar como indicador para encontrar el codo. Y además, se usan los coeficientes silueta para medir qué tan parecidos entre sí son los elementos de un clúster, factor que se quiere maximizar también.\r\n",
        "\r\n",
        "Para maximizar ambos, se ordenan ascendentemente los coeficientes silueta primero y en base a ellos se ordenan las segundas derivadas para encontrar aquella tal que funja de máximo local"
      ]
    },
    {
      "cell_type": "code",
      "metadata": {
        "id": "2QrBKQ_0Ux-j"
      },
      "source": [
        "def continue_finding_elbow(SSE_d2x, i, tol):\r\n",
        "    # Condicion 1:\r\n",
        "    if( abs(SSE_d2x[i]) >= abs(SSE_d2x[i-1]) ):\r\n",
        "        return True\r\n",
        "    # Condicion 2:\r\n",
        "    elif( abs(SSE_d2x[i]-SSE_d2x[i-1]) < tol ):\r\n",
        "        return True\r\n",
        "    return False"
      ],
      "execution_count": null,
      "outputs": []
    },
    {
      "cell_type": "code",
      "metadata": {
        "id": "Z9B_7-9ya9vE"
      },
      "source": [
        "def plot_clusters(X,labels,colors):        \r\n",
        "    for i in range( len(labels) ):\r\n",
        "        plt.plot( X[i][0], X[i][1], 'ro', color=colors[labels[i]] )"
      ],
      "execution_count": null,
      "outputs": []
    },
    {
      "cell_type": "code",
      "metadata": {
        "id": "nDJdpP3JWAbX"
      },
      "source": [
        "def plot_silhouette(X,clustering):\r\n",
        "    labels = np.unique( clustering.fit_predict(X) )\r\n",
        "    num_clusters = labels.shape[0]\r\n",
        "    \r\n",
        "    silhouette_vals = silhouette_samples(X, clustering.fit_predict(X), metric='euclidean')\r\n",
        "\r\n",
        "    y_ax_lower, y_ax_upper = 0,0\r\n",
        "    yticks = []\r\n",
        "    for i,c in enumerate(labels):\r\n",
        "        c_silhouette_vals = silhouette_vals[ clustering.fit_predict(X) == c]\r\n",
        "        c_silhouette_vals.sort()\r\n",
        "        y_ax_upper += len(c_silhouette_vals)\r\n",
        "        color = cm.jet(i / num_clusters)\r\n",
        "        plt.barh(range(y_ax_lower, y_ax_upper),\r\n",
        "                 c_silhouette_vals,\r\n",
        "                 height=1.0,\r\n",
        "                 edgecolor='none',\r\n",
        "                 color=color)\r\n",
        "        yticks.append((y_ax_lower + y_ax_upper) / 2)\r\n",
        "        y_ax_lower += len(c_silhouette_vals)\r\n",
        "    silhouette_avg = np.mean(silhouette_vals)\r\n",
        "    plt.axvline(silhouette_avg, color=\"red\", linestyle=\"--\")\r\n",
        "    plt.yticks(yticks, labels + 1)\r\n",
        "    plt.ylabel('Cluster')\r\n",
        "    plt.xlabel('Silhouette coefficient')\r\n",
        "    return silhouette_avg"
      ],
      "execution_count": null,
      "outputs": []
    },
    {
      "cell_type": "code",
      "metadata": {
        "id": "1gsGWPpbU8fD"
      },
      "source": [
        "def how_many_clusters(X, max_clusters,colors):\r\n",
        "    num_clusters = 0\r\n",
        "    SSE          = []\r\n",
        "    SSE_d2x      = [] #Esta lista empieza con n_clusters=1\r\n",
        "    silhouettes  = []\r\n",
        "    \r\n",
        "        \r\n",
        "    while( num_clusters < max_clusters+1): #Para calcular la derivada del siguiente\r\n",
        "        num_clusters += 1\r\n",
        "        \r\n",
        "        clustering = KMeans(n_clusters=num_clusters, init=\"k-means++\", n_init=10, max_iter=300, random_state=42).fit(X)\r\n",
        "        \r\n",
        "        if num_clusters < max_clusters+1:\r\n",
        "            plt.subplot(max_clusters,2,2*num_clusters-1)\r\n",
        "            plot_clusters(X,clustering.labels_,colors)\r\n",
        "        \r\n",
        "            if( num_clusters > 1 ):\r\n",
        "                plt.subplot(max_clusters,2,2*num_clusters)\r\n",
        "                silhouettes.append(plot_silhouette(X,clustering))\r\n",
        "        \r\n",
        "        SSE.append( clustering.inertia_ )\r\n",
        "        \r\n",
        "        #Calculamos la segunda derivada del punto anterior normalizando ademas para que no influyan las proporciones\r\n",
        "        if( num_clusters > 2 ):\r\n",
        "            SSE_d2x.append( (SSE[-3]+SSE[-1]-2*SSE[-2]) / (SSE[-3]-SSE[-1]) )\r\n",
        "    \r\n",
        "    index_silhouettes = np.argsort(-np.array(silhouettes))\r\n",
        "\r\n",
        "    best_d2x=[SSE_d2x[i] for i in index_silhouettes]\r\n",
        "    best_d2x.insert(0,0)\r\n",
        "\r\n",
        "    i=1\r\n",
        "    while continue_finding_elbow(best_d2x, i, 0.2):\r\n",
        "        i+=1\r\n",
        "    \r\n",
        "    elbow = index_silhouettes[i-1]+1        \r\n",
        "        \r\n",
        "    return SSE,SSE_d2x, elbow"
      ],
      "execution_count": null,
      "outputs": []
    },
    {
      "cell_type": "code",
      "metadata": {
        "id": "FhFydpajhr7V"
      },
      "source": [
        ""
      ],
      "execution_count": null,
      "outputs": []
    },
    {
      "cell_type": "code",
      "metadata": {
        "id": "RSZmQbTDPIJq",
        "colab": {
          "base_uri": "https://localhost:8080/",
          "height": 248
        },
        "outputId": "8f593657-d047-4208-de9e-2579702ea65d"
      },
      "source": [
        "fig = plt.figure()\r\n",
        "ax = fig.add_subplot(111, projection='3d')\r\n",
        "\r\n",
        "kmeans = KMeans(n_clusters=2)\r\n",
        "\r\n",
        "kmeans.fit(SVD)\r\n",
        "colors = ['r', 'g', 'b']\r\n",
        "for i, punto in enumerate(SVD):\r\n",
        "    ax.plot([punto[0]], [punto[1]], [punto[2]], 'o', color=colors[kmeans.labels_[i]])\r\n",
        "\r\n",
        "plt.show()"
      ],
      "execution_count": null,
      "outputs": [
        {
          "output_type": "display_data",
          "data": {
            "image/png": "[encoded data removed]",
            "text/plain": [
              "<Figure size 432x288 with 1 Axes>"
            ]
          },
          "metadata": {
            "tags": [],
            "needs_background": "light"
          }
        }
      ]
    },
    {
      "cell_type": "markdown",
      "metadata": {
        "id": "JmytbuiXobsf"
      },
      "source": [
        "En general no se observa mucha distincion entre los clusters usando unicamente informacion de las reseñas. Pareciera ser un cluster unico, y el metodo solo encontro dos clusters que realmente parecen estar muy conectados entre si."
      ]
    },
    {
      "cell_type": "code",
      "metadata": {
        "id": "TaEVI7UWRqpL"
      },
      "source": [
        "new_X = np.concatenate([SVD, data_OHE.values], axis=1)"
      ],
      "execution_count": null,
      "outputs": []
    },
    {
      "cell_type": "code",
      "metadata": {
        "id": "0FlxZ7ODm0Kq"
      },
      "source": [
        "u, s, vt = svd(new_X)"
      ],
      "execution_count": null,
      "outputs": []
    },
    {
      "cell_type": "code",
      "metadata": {
        "colab": {
          "base_uri": "https://localhost:8080/",
          "height": 248
        },
        "id": "ELU1ZNYAm088",
        "outputId": "33acda4f-5160-4b07-a34b-37b8aca33aba"
      },
      "source": [
        "fig = plt.figure()\r\n",
        "ax = fig.add_subplot(111, projection='3d')\r\n",
        "\r\n",
        "SVD = u[:,:3] * s[:3]\r\n",
        "\r\n",
        "ax.plot(SVD[:,0], SVD[:,1], SVD[:,2], 'o')\r\n",
        "plt.show()"
      ],
      "execution_count": null,
      "outputs": [
        {
          "output_type": "display_data",
          "data": {
            "image/png": "[encoded data removed]",
            "text/plain": [
              "<Figure size 432x288 with 1 Axes>"
            ]
          },
          "metadata": {
            "tags": [],
            "needs_background": "light"
          }
        }
      ]
    },
    {
      "cell_type": "code",
      "metadata": {
        "colab": {
          "base_uri": "https://localhost:8080/",
          "height": 279
        },
        "id": "hTx-UomeWXu8",
        "outputId": "90fd87bd-89f3-4a54-dd60-bb0f946c28a1"
      },
      "source": [
        "colors = [[np.random.random(), np.random.random(), np.random.random()] for i in range(6)]\n",
        "SSE, SSE_d2x, codo = how_many_clusters(SVD, 6, colors)"
      ],
      "execution_count": null,
      "outputs": [
        {
          "output_type": "display_data",
          "data": {
            "image/png": "[encoded data removed]",
            "text/plain": [
              "<Figure size 432x288 with 11 Axes>"
            ]
          },
          "metadata": {
            "tags": [],
            "needs_background": "light"
          }
        }
      ]
    },
    {
      "cell_type": "code",
      "metadata": {
        "colab": {
          "base_uri": "https://localhost:8080/"
        },
        "id": "PWG6_OLZWpRz",
        "outputId": "ba18abd7-5afb-4c66-ec5d-fabb2dac8d90"
      },
      "source": [
        "print(\"Codo optimo encontrado por el algoritmo:\", codo)"
      ],
      "execution_count": null,
      "outputs": [
        {
          "output_type": "stream",
          "text": [
            "Codo optimo encontrado por el algoritmo: 3\n"
          ],
          "name": "stdout"
        }
      ]
    },
    {
      "cell_type": "code",
      "metadata": {
        "colab": {
          "base_uri": "https://localhost:8080/",
          "height": 248
        },
        "id": "owiNqghfnnmU",
        "outputId": "646ced8d-978f-4be1-f8a6-242c415f14bb"
      },
      "source": [
        "fig = plt.figure()\r\n",
        "ax = fig.add_subplot(111, projection='3d')\r\n",
        "\r\n",
        "kmeans = KMeans(n_clusters=3)\r\n",
        "\r\n",
        "kmeans.fit(SVD)\r\n",
        "colors = ['r', 'g', 'b', 'y']\r\n",
        "for i, punto in enumerate(SVD):\r\n",
        "    ax.plot([punto[0]], [punto[1]], [punto[2]], 'o', color=colors[kmeans.labels_[i]])\r\n",
        "\r\n",
        "plt.show()"
      ],
      "execution_count": null,
      "outputs": [
        {
          "output_type": "display_data",
          "data": {
            "image/png": "[encoded data removed]",
            "text/plain": [
              "<Figure size 432x288 with 1 Axes>"
            ]
          },
          "metadata": {
            "tags": [],
            "needs_background": "light"
          }
        }
      ]
    },
    {
      "cell_type": "markdown",
      "metadata": {
        "id": "nvXdOJKzulUj"
      },
      "source": [
        "Ahora vamos a analizar qué palabras suelen acompañarse entre sí"
      ]
    },
    {
      "cell_type": "markdown",
      "metadata": {
        "id": "X7PR5_462G6i"
      },
      "source": [
        "Lift mayor a 1 para que sea significativa la regla sin que influyan mucho las frecuencias de los elementos"
      ]
    },
    {
      "cell_type": "code",
      "metadata": {
        "id": "KWH619eRpVmK"
      },
      "source": [
        "def obtain_rules(data, min_support, max_len=None):\r\n",
        "    transactions = []\r\n",
        "    for i, row in data.iterrows():\r\n",
        "        transactions.append(row.Text_lemmatized.split(' '))\r\n",
        "    te = TransactionEncoder()\r\n",
        "\r\n",
        "    ohe_array = te.fit(transactions).transform(transactions)\r\n",
        "    df = pd.DataFrame(ohe_array, columns=te.columns_)\r\n",
        "\r\n",
        "    frequent_sets = apriori(df, min_support=min_support, max_len=max_len, use_colnames=True)\r\n",
        "    interesting_rules = association_rules(frequent_sets, metric = 'lift', min_threshold = 1)\r\n",
        "    #interesting_rules.sort_values(by='lift', ascending=False)\r\n",
        "    frequent_sets['size'] = frequent_sets['itemsets'].apply(lambda x: len(x))\r\n",
        "    interesting_rules['ant_size'] = interesting_rules['antecedents'].apply(lambda x: len(x))\r\n",
        "    interesting_rules['con_size'] = interesting_rules['consequents'].apply(lambda x: len(x))\r\n",
        "\r\n",
        "    return frequent_sets, interesting_rules"
      ],
      "execution_count": null,
      "outputs": []
    },
    {
      "cell_type": "code",
      "metadata": {
        "id": "sP2bgk_Qs-tL"
      },
      "source": [
        "rules_df = []\r\n",
        "sets_df = []\r\n",
        "for i in range(1,6):\r\n",
        "    frequent_sets, interesting_rules = obtain_rules(data.loc[data['Rating'] == i].copy(), min_support=0.02)\r\n",
        "    rules_df.append(interesting_rules)\r\n",
        "    sets_df.append(frequent_sets)"
      ],
      "execution_count": null,
      "outputs": []
    },
    {
      "cell_type": "markdown",
      "metadata": {
        "id": "jJ6SaBtAjO9E"
      },
      "source": [
        "Tras experimentación, parece ser que aquellas reglas de asociación que involucran a más de 2 palabras no suelen ser muy informativas o distinguibles para los conjuntos de calificaciones. Se intentará entonces visualizar aquellas palabras frecuentes por calificacion y su dinamica a lo largo de dichas calificaciones por medio de graficas de barras. Adicionalmente, se implementará un mapa de calor para visualizar las distribuciones de palabras para cada calificacion."
      ]
    },
    {
      "cell_type": "code",
      "metadata": {
        "colab": {
          "base_uri": "https://localhost:8080/",
          "height": 677
        },
        "id": "BGi6pqCaxttd",
        "outputId": "2df3b77f-86f1-4d5a-822f-7adabfd46f25"
      },
      "source": [
        "rules_df[4].loc[(rules_df[4]['ant_size'] > 1) | (rules_df[4]['con_size'] > 1)].sort_values(by='support', ascending=False).head(20)"
      ],
      "execution_count": null,
      "outputs": [
        {
          "output_type": "execute_result",
          "data": {
            "text/html": [
              "<div>\n",
              "<style scoped>\n",
              "    .dataframe tbody tr th:only-of-type {\n",
              "        vertical-align: middle;\n",
              "    }\n",
              "\n",
              "    .dataframe tbody tr th {\n",
              "        vertical-align: top;\n",
              "    }\n",
              "\n",
              "    .dataframe thead th {\n",
              "        text-align: right;\n",
              "    }\n",
              "</style>\n",
              "<table border=\"1\" class=\"dataframe\">\n",
              "  <thead>\n",
              "    <tr style=\"text-align: right;\">\n",
              "      <th></th>\n",
              "      <th>antecedents</th>\n",
              "      <th>consequents</th>\n",
              "      <th>antecedent support</th>\n",
              "      <th>consequent support</th>\n",
              "      <th>support</th>\n",
              "      <th>confidence</th>\n",
              "      <th>lift</th>\n",
              "      <th>leverage</th>\n",
              "      <th>conviction</th>\n",
              "      <th>ant_size</th>\n",
              "      <th>con_size</th>\n",
              "    </tr>\n",
              "  </thead>\n",
              "  <tbody>\n",
              "    <tr>\n",
              "      <th>1825</th>\n",
              "      <td>(size)</td>\n",
              "      <td>(love, fit)</td>\n",
              "      <td>0.302392</td>\n",
              "      <td>0.159809</td>\n",
              "      <td>0.062679</td>\n",
              "      <td>0.207278</td>\n",
              "      <td>1.297042</td>\n",
              "      <td>0.014355</td>\n",
              "      <td>1.059882</td>\n",
              "      <td>1</td>\n",
              "      <td>2</td>\n",
              "    </tr>\n",
              "    <tr>\n",
              "      <th>1822</th>\n",
              "      <td>(love, fit)</td>\n",
              "      <td>(size)</td>\n",
              "      <td>0.159809</td>\n",
              "      <td>0.302392</td>\n",
              "      <td>0.062679</td>\n",
              "      <td>0.392216</td>\n",
              "      <td>1.297042</td>\n",
              "      <td>0.014355</td>\n",
              "      <td>1.147788</td>\n",
              "      <td>2</td>\n",
              "      <td>1</td>\n",
              "    </tr>\n",
              "    <tr>\n",
              "      <th>1824</th>\n",
              "      <td>(fit)</td>\n",
              "      <td>(love, size)</td>\n",
              "      <td>0.395056</td>\n",
              "      <td>0.116746</td>\n",
              "      <td>0.062679</td>\n",
              "      <td>0.158660</td>\n",
              "      <td>1.359011</td>\n",
              "      <td>0.016558</td>\n",
              "      <td>1.049817</td>\n",
              "      <td>1</td>\n",
              "      <td>2</td>\n",
              "    </tr>\n",
              "    <tr>\n",
              "      <th>1823</th>\n",
              "      <td>(love, size)</td>\n",
              "      <td>(fit)</td>\n",
              "      <td>0.116746</td>\n",
              "      <td>0.395056</td>\n",
              "      <td>0.062679</td>\n",
              "      <td>0.536885</td>\n",
              "      <td>1.359011</td>\n",
              "      <td>0.016558</td>\n",
              "      <td>1.306251</td>\n",
              "      <td>2</td>\n",
              "      <td>1</td>\n",
              "    </tr>\n",
              "    <tr>\n",
              "      <th>1396</th>\n",
              "      <td>(love, fit)</td>\n",
              "      <td>(color)</td>\n",
              "      <td>0.159809</td>\n",
              "      <td>0.280702</td>\n",
              "      <td>0.052472</td>\n",
              "      <td>0.328343</td>\n",
              "      <td>1.169723</td>\n",
              "      <td>0.007614</td>\n",
              "      <td>1.070931</td>\n",
              "      <td>2</td>\n",
              "      <td>1</td>\n",
              "    </tr>\n",
              "    <tr>\n",
              "      <th>1397</th>\n",
              "      <td>(love, color)</td>\n",
              "      <td>(fit)</td>\n",
              "      <td>0.123844</td>\n",
              "      <td>0.395056</td>\n",
              "      <td>0.052472</td>\n",
              "      <td>0.423696</td>\n",
              "      <td>1.072497</td>\n",
              "      <td>0.003547</td>\n",
              "      <td>1.049696</td>\n",
              "      <td>2</td>\n",
              "      <td>1</td>\n",
              "    </tr>\n",
              "    <tr>\n",
              "      <th>1398</th>\n",
              "      <td>(fit, color)</td>\n",
              "      <td>(love)</td>\n",
              "      <td>0.115391</td>\n",
              "      <td>0.402552</td>\n",
              "      <td>0.052472</td>\n",
              "      <td>0.454734</td>\n",
              "      <td>1.129628</td>\n",
              "      <td>0.006021</td>\n",
              "      <td>1.095700</td>\n",
              "      <td>2</td>\n",
              "      <td>1</td>\n",
              "    </tr>\n",
              "    <tr>\n",
              "      <th>1399</th>\n",
              "      <td>(love)</td>\n",
              "      <td>(fit, color)</td>\n",
              "      <td>0.402552</td>\n",
              "      <td>0.115391</td>\n",
              "      <td>0.052472</td>\n",
              "      <td>0.130349</td>\n",
              "      <td>1.129628</td>\n",
              "      <td>0.006021</td>\n",
              "      <td>1.017200</td>\n",
              "      <td>1</td>\n",
              "      <td>2</td>\n",
              "    </tr>\n",
              "    <tr>\n",
              "      <th>1400</th>\n",
              "      <td>(fit)</td>\n",
              "      <td>(love, color)</td>\n",
              "      <td>0.395056</td>\n",
              "      <td>0.123844</td>\n",
              "      <td>0.052472</td>\n",
              "      <td>0.132822</td>\n",
              "      <td>1.072497</td>\n",
              "      <td>0.003547</td>\n",
              "      <td>1.010353</td>\n",
              "      <td>1</td>\n",
              "      <td>2</td>\n",
              "    </tr>\n",
              "    <tr>\n",
              "      <th>1401</th>\n",
              "      <td>(color)</td>\n",
              "      <td>(love, fit)</td>\n",
              "      <td>0.280702</td>\n",
              "      <td>0.159809</td>\n",
              "      <td>0.052472</td>\n",
              "      <td>0.186932</td>\n",
              "      <td>1.169723</td>\n",
              "      <td>0.007614</td>\n",
              "      <td>1.033359</td>\n",
              "      <td>1</td>\n",
              "      <td>2</td>\n",
              "    </tr>\n",
              "    <tr>\n",
              "      <th>1717</th>\n",
              "      <td>(love, great)</td>\n",
              "      <td>(fit)</td>\n",
              "      <td>0.108214</td>\n",
              "      <td>0.395056</td>\n",
              "      <td>0.048963</td>\n",
              "      <td>0.452469</td>\n",
              "      <td>1.145328</td>\n",
              "      <td>0.006213</td>\n",
              "      <td>1.104858</td>\n",
              "      <td>2</td>\n",
              "      <td>1</td>\n",
              "    </tr>\n",
              "    <tr>\n",
              "      <th>1716</th>\n",
              "      <td>(love, fit)</td>\n",
              "      <td>(great)</td>\n",
              "      <td>0.159809</td>\n",
              "      <td>0.271531</td>\n",
              "      <td>0.048963</td>\n",
              "      <td>0.306387</td>\n",
              "      <td>1.128369</td>\n",
              "      <td>0.005570</td>\n",
              "      <td>1.050253</td>\n",
              "      <td>2</td>\n",
              "      <td>1</td>\n",
              "    </tr>\n",
              "    <tr>\n",
              "      <th>1721</th>\n",
              "      <td>(great)</td>\n",
              "      <td>(love, fit)</td>\n",
              "      <td>0.271531</td>\n",
              "      <td>0.159809</td>\n",
              "      <td>0.048963</td>\n",
              "      <td>0.180323</td>\n",
              "      <td>1.128369</td>\n",
              "      <td>0.005570</td>\n",
              "      <td>1.025027</td>\n",
              "      <td>1</td>\n",
              "      <td>2</td>\n",
              "    </tr>\n",
              "    <tr>\n",
              "      <th>1718</th>\n",
              "      <td>(fit, great)</td>\n",
              "      <td>(love)</td>\n",
              "      <td>0.118660</td>\n",
              "      <td>0.402552</td>\n",
              "      <td>0.048963</td>\n",
              "      <td>0.412634</td>\n",
              "      <td>1.025047</td>\n",
              "      <td>0.001196</td>\n",
              "      <td>1.017166</td>\n",
              "      <td>2</td>\n",
              "      <td>1</td>\n",
              "    </tr>\n",
              "    <tr>\n",
              "      <th>1720</th>\n",
              "      <td>(fit)</td>\n",
              "      <td>(love, great)</td>\n",
              "      <td>0.395056</td>\n",
              "      <td>0.108214</td>\n",
              "      <td>0.048963</td>\n",
              "      <td>0.123940</td>\n",
              "      <td>1.145328</td>\n",
              "      <td>0.006213</td>\n",
              "      <td>1.017951</td>\n",
              "      <td>1</td>\n",
              "      <td>2</td>\n",
              "    </tr>\n",
              "    <tr>\n",
              "      <th>1719</th>\n",
              "      <td>(love)</td>\n",
              "      <td>(fit, great)</td>\n",
              "      <td>0.402552</td>\n",
              "      <td>0.118660</td>\n",
              "      <td>0.048963</td>\n",
              "      <td>0.121632</td>\n",
              "      <td>1.025047</td>\n",
              "      <td>0.001196</td>\n",
              "      <td>1.003384</td>\n",
              "      <td>1</td>\n",
              "      <td>2</td>\n",
              "    </tr>\n",
              "    <tr>\n",
              "      <th>1937</th>\n",
              "      <td>(wear)</td>\n",
              "      <td>(fit, size)</td>\n",
              "      <td>0.274721</td>\n",
              "      <td>0.158692</td>\n",
              "      <td>0.048086</td>\n",
              "      <td>0.175036</td>\n",
              "      <td>1.102992</td>\n",
              "      <td>0.004490</td>\n",
              "      <td>1.019812</td>\n",
              "      <td>1</td>\n",
              "      <td>2</td>\n",
              "    </tr>\n",
              "    <tr>\n",
              "      <th>1934</th>\n",
              "      <td>(wear, fit)</td>\n",
              "      <td>(size)</td>\n",
              "      <td>0.112281</td>\n",
              "      <td>0.302392</td>\n",
              "      <td>0.048086</td>\n",
              "      <td>0.428267</td>\n",
              "      <td>1.416263</td>\n",
              "      <td>0.014133</td>\n",
              "      <td>1.220163</td>\n",
              "      <td>2</td>\n",
              "      <td>1</td>\n",
              "    </tr>\n",
              "    <tr>\n",
              "      <th>1935</th>\n",
              "      <td>(wear, size)</td>\n",
              "      <td>(fit)</td>\n",
              "      <td>0.092344</td>\n",
              "      <td>0.395056</td>\n",
              "      <td>0.048086</td>\n",
              "      <td>0.520725</td>\n",
              "      <td>1.318106</td>\n",
              "      <td>0.011605</td>\n",
              "      <td>1.262208</td>\n",
              "      <td>2</td>\n",
              "      <td>1</td>\n",
              "    </tr>\n",
              "    <tr>\n",
              "      <th>1936</th>\n",
              "      <td>(fit, size)</td>\n",
              "      <td>(wear)</td>\n",
              "      <td>0.158692</td>\n",
              "      <td>0.274721</td>\n",
              "      <td>0.048086</td>\n",
              "      <td>0.303015</td>\n",
              "      <td>1.102992</td>\n",
              "      <td>0.004490</td>\n",
              "      <td>1.040595</td>\n",
              "      <td>2</td>\n",
              "      <td>1</td>\n",
              "    </tr>\n",
              "  </tbody>\n",
              "</table>\n",
              "</div>"
            ],
            "text/plain": [
              "        antecedents    consequents  ...  ant_size  con_size\n",
              "1825         (size)    (love, fit)  ...         1         2\n",
              "1822    (love, fit)         (size)  ...         2         1\n",
              "1824          (fit)   (love, size)  ...         1         2\n",
              "1823   (love, size)          (fit)  ...         2         1\n",
              "1396    (love, fit)        (color)  ...         2         1\n",
              "1397  (love, color)          (fit)  ...         2         1\n",
              "1398   (fit, color)         (love)  ...         2         1\n",
              "1399         (love)   (fit, color)  ...         1         2\n",
              "1400          (fit)  (love, color)  ...         1         2\n",
              "1401        (color)    (love, fit)  ...         1         2\n",
              "1717  (love, great)          (fit)  ...         2         1\n",
              "1716    (love, fit)        (great)  ...         2         1\n",
              "1721        (great)    (love, fit)  ...         1         2\n",
              "1718   (fit, great)         (love)  ...         2         1\n",
              "1720          (fit)  (love, great)  ...         1         2\n",
              "1719         (love)   (fit, great)  ...         1         2\n",
              "1937         (wear)    (fit, size)  ...         1         2\n",
              "1934    (wear, fit)         (size)  ...         2         1\n",
              "1935   (wear, size)          (fit)  ...         2         1\n",
              "1936    (fit, size)         (wear)  ...         2         1\n",
              "\n",
              "[20 rows x 11 columns]"
            ]
          },
          "metadata": {
            "tags": []
          },
          "execution_count": 40
        }
      ]
    },
    {
      "cell_type": "code",
      "metadata": {
        "id": "OH6skDgBkSzh"
      },
      "source": [
        "rules_df = []\r\n",
        "sets_df = []\r\n",
        "for i in range(1,6):\r\n",
        "    frequent_sets, interesting_rules = obtain_rules(data.loc[data['Rating'] == i].copy(), min_support=0.03, max_len=2)\r\n",
        "    rules_df.append(interesting_rules)\r\n",
        "    sets_df.append(frequent_sets)"
      ],
      "execution_count": null,
      "outputs": []
    },
    {
      "cell_type": "code",
      "metadata": {
        "colab": {
          "base_uri": "https://localhost:8080/",
          "height": 677
        },
        "id": "S3LSIgPhkU4k",
        "outputId": "d8db7f9d-764d-48c4-d995-0d004c2e6f43"
      },
      "source": [
        "rules_df[0].sort_values(by='support', ascending=False).head(20)"
      ],
      "execution_count": null,
      "outputs": [
        {
          "output_type": "execute_result",
          "data": {
            "text/html": [
              "<div>\n",
              "<style scoped>\n",
              "    .dataframe tbody tr th:only-of-type {\n",
              "        vertical-align: middle;\n",
              "    }\n",
              "\n",
              "    .dataframe tbody tr th {\n",
              "        vertical-align: top;\n",
              "    }\n",
              "\n",
              "    .dataframe thead th {\n",
              "        text-align: right;\n",
              "    }\n",
              "</style>\n",
              "<table border=\"1\" class=\"dataframe\">\n",
              "  <thead>\n",
              "    <tr style=\"text-align: right;\">\n",
              "      <th></th>\n",
              "      <th>antecedents</th>\n",
              "      <th>consequents</th>\n",
              "      <th>antecedent support</th>\n",
              "      <th>consequent support</th>\n",
              "      <th>support</th>\n",
              "      <th>confidence</th>\n",
              "      <th>lift</th>\n",
              "      <th>leverage</th>\n",
              "      <th>conviction</th>\n",
              "      <th>ant_size</th>\n",
              "      <th>con_size</th>\n",
              "    </tr>\n",
              "  </thead>\n",
              "  <tbody>\n",
              "    <tr>\n",
              "      <th>181</th>\n",
              "      <td>(look)</td>\n",
              "      <td>(fit)</td>\n",
              "      <td>0.294762</td>\n",
              "      <td>0.264312</td>\n",
              "      <td>0.092570</td>\n",
              "      <td>0.314050</td>\n",
              "      <td>1.188178</td>\n",
              "      <td>0.014661</td>\n",
              "      <td>1.072509</td>\n",
              "      <td>1</td>\n",
              "      <td>1</td>\n",
              "    </tr>\n",
              "    <tr>\n",
              "      <th>180</th>\n",
              "      <td>(fit)</td>\n",
              "      <td>(look)</td>\n",
              "      <td>0.264312</td>\n",
              "      <td>0.294762</td>\n",
              "      <td>0.092570</td>\n",
              "      <td>0.350230</td>\n",
              "      <td>1.188178</td>\n",
              "      <td>0.014661</td>\n",
              "      <td>1.085366</td>\n",
              "      <td>1</td>\n",
              "      <td>1</td>\n",
              "    </tr>\n",
              "    <tr>\n",
              "      <th>202</th>\n",
              "      <td>(fit)</td>\n",
              "      <td>(size)</td>\n",
              "      <td>0.264312</td>\n",
              "      <td>0.192448</td>\n",
              "      <td>0.088916</td>\n",
              "      <td>0.336406</td>\n",
              "      <td>1.748031</td>\n",
              "      <td>0.038050</td>\n",
              "      <td>1.216936</td>\n",
              "      <td>1</td>\n",
              "      <td>1</td>\n",
              "    </tr>\n",
              "    <tr>\n",
              "      <th>203</th>\n",
              "      <td>(size)</td>\n",
              "      <td>(fit)</td>\n",
              "      <td>0.192448</td>\n",
              "      <td>0.264312</td>\n",
              "      <td>0.088916</td>\n",
              "      <td>0.462025</td>\n",
              "      <td>1.748031</td>\n",
              "      <td>0.038050</td>\n",
              "      <td>1.367515</td>\n",
              "      <td>1</td>\n",
              "      <td>1</td>\n",
              "    </tr>\n",
              "    <tr>\n",
              "      <th>122</th>\n",
              "      <td>(dress)</td>\n",
              "      <td>(look)</td>\n",
              "      <td>0.259440</td>\n",
              "      <td>0.294762</td>\n",
              "      <td>0.082826</td>\n",
              "      <td>0.319249</td>\n",
              "      <td>1.083071</td>\n",
              "      <td>0.006353</td>\n",
              "      <td>1.035970</td>\n",
              "      <td>1</td>\n",
              "      <td>1</td>\n",
              "    </tr>\n",
              "    <tr>\n",
              "      <th>123</th>\n",
              "      <td>(look)</td>\n",
              "      <td>(dress)</td>\n",
              "      <td>0.294762</td>\n",
              "      <td>0.259440</td>\n",
              "      <td>0.082826</td>\n",
              "      <td>0.280992</td>\n",
              "      <td>1.083071</td>\n",
              "      <td>0.006353</td>\n",
              "      <td>1.029975</td>\n",
              "      <td>1</td>\n",
              "      <td>1</td>\n",
              "    </tr>\n",
              "    <tr>\n",
              "      <th>192</th>\n",
              "      <td>(fit)</td>\n",
              "      <td>(ordered)</td>\n",
              "      <td>0.264312</td>\n",
              "      <td>0.186358</td>\n",
              "      <td>0.079172</td>\n",
              "      <td>0.299539</td>\n",
              "      <td>1.607331</td>\n",
              "      <td>0.029915</td>\n",
              "      <td>1.161581</td>\n",
              "      <td>1</td>\n",
              "      <td>1</td>\n",
              "    </tr>\n",
              "    <tr>\n",
              "      <th>193</th>\n",
              "      <td>(ordered)</td>\n",
              "      <td>(fit)</td>\n",
              "      <td>0.186358</td>\n",
              "      <td>0.264312</td>\n",
              "      <td>0.079172</td>\n",
              "      <td>0.424837</td>\n",
              "      <td>1.607331</td>\n",
              "      <td>0.029915</td>\n",
              "      <td>1.279094</td>\n",
              "      <td>1</td>\n",
              "      <td>1</td>\n",
              "    </tr>\n",
              "    <tr>\n",
              "      <th>302</th>\n",
              "      <td>(size)</td>\n",
              "      <td>(ordered)</td>\n",
              "      <td>0.192448</td>\n",
              "      <td>0.186358</td>\n",
              "      <td>0.075518</td>\n",
              "      <td>0.392405</td>\n",
              "      <td>2.105651</td>\n",
              "      <td>0.039653</td>\n",
              "      <td>1.339119</td>\n",
              "      <td>1</td>\n",
              "      <td>1</td>\n",
              "    </tr>\n",
              "    <tr>\n",
              "      <th>258</th>\n",
              "      <td>(top)</td>\n",
              "      <td>(look)</td>\n",
              "      <td>0.226553</td>\n",
              "      <td>0.294762</td>\n",
              "      <td>0.075518</td>\n",
              "      <td>0.333333</td>\n",
              "      <td>1.130854</td>\n",
              "      <td>0.008738</td>\n",
              "      <td>1.057856</td>\n",
              "      <td>1</td>\n",
              "      <td>1</td>\n",
              "    </tr>\n",
              "    <tr>\n",
              "      <th>259</th>\n",
              "      <td>(look)</td>\n",
              "      <td>(top)</td>\n",
              "      <td>0.294762</td>\n",
              "      <td>0.226553</td>\n",
              "      <td>0.075518</td>\n",
              "      <td>0.256198</td>\n",
              "      <td>1.130854</td>\n",
              "      <td>0.008738</td>\n",
              "      <td>1.039857</td>\n",
              "      <td>1</td>\n",
              "      <td>1</td>\n",
              "    </tr>\n",
              "    <tr>\n",
              "      <th>303</th>\n",
              "      <td>(ordered)</td>\n",
              "      <td>(size)</td>\n",
              "      <td>0.186358</td>\n",
              "      <td>0.192448</td>\n",
              "      <td>0.075518</td>\n",
              "      <td>0.405229</td>\n",
              "      <td>2.105651</td>\n",
              "      <td>0.039653</td>\n",
              "      <td>1.357752</td>\n",
              "      <td>1</td>\n",
              "      <td>1</td>\n",
              "    </tr>\n",
              "    <tr>\n",
              "      <th>157</th>\n",
              "      <td>(fabric)</td>\n",
              "      <td>(look)</td>\n",
              "      <td>0.239951</td>\n",
              "      <td>0.294762</td>\n",
              "      <td>0.075518</td>\n",
              "      <td>0.314721</td>\n",
              "      <td>1.067710</td>\n",
              "      <td>0.004789</td>\n",
              "      <td>1.029124</td>\n",
              "      <td>1</td>\n",
              "      <td>1</td>\n",
              "    </tr>\n",
              "    <tr>\n",
              "      <th>156</th>\n",
              "      <td>(look)</td>\n",
              "      <td>(fabric)</td>\n",
              "      <td>0.294762</td>\n",
              "      <td>0.239951</td>\n",
              "      <td>0.075518</td>\n",
              "      <td>0.256198</td>\n",
              "      <td>1.067710</td>\n",
              "      <td>0.004789</td>\n",
              "      <td>1.021843</td>\n",
              "      <td>1</td>\n",
              "      <td>1</td>\n",
              "    </tr>\n",
              "    <tr>\n",
              "      <th>118</th>\n",
              "      <td>(dress)</td>\n",
              "      <td>(fit)</td>\n",
              "      <td>0.259440</td>\n",
              "      <td>0.264312</td>\n",
              "      <td>0.074300</td>\n",
              "      <td>0.286385</td>\n",
              "      <td>1.083512</td>\n",
              "      <td>0.005727</td>\n",
              "      <td>1.030931</td>\n",
              "      <td>1</td>\n",
              "      <td>1</td>\n",
              "    </tr>\n",
              "    <tr>\n",
              "      <th>119</th>\n",
              "      <td>(fit)</td>\n",
              "      <td>(dress)</td>\n",
              "      <td>0.264312</td>\n",
              "      <td>0.259440</td>\n",
              "      <td>0.074300</td>\n",
              "      <td>0.281106</td>\n",
              "      <td>1.083512</td>\n",
              "      <td>0.005727</td>\n",
              "      <td>1.030138</td>\n",
              "      <td>1</td>\n",
              "      <td>1</td>\n",
              "    </tr>\n",
              "    <tr>\n",
              "      <th>47</th>\n",
              "      <td>(look)</td>\n",
              "      <td>(back)</td>\n",
              "      <td>0.294762</td>\n",
              "      <td>0.205847</td>\n",
              "      <td>0.073082</td>\n",
              "      <td>0.247934</td>\n",
              "      <td>1.204460</td>\n",
              "      <td>0.012406</td>\n",
              "      <td>1.055962</td>\n",
              "      <td>1</td>\n",
              "      <td>1</td>\n",
              "    </tr>\n",
              "    <tr>\n",
              "      <th>207</th>\n",
              "      <td>(top)</td>\n",
              "      <td>(fit)</td>\n",
              "      <td>0.226553</td>\n",
              "      <td>0.264312</td>\n",
              "      <td>0.073082</td>\n",
              "      <td>0.322581</td>\n",
              "      <td>1.220455</td>\n",
              "      <td>0.013201</td>\n",
              "      <td>1.086016</td>\n",
              "      <td>1</td>\n",
              "      <td>1</td>\n",
              "    </tr>\n",
              "    <tr>\n",
              "      <th>206</th>\n",
              "      <td>(fit)</td>\n",
              "      <td>(top)</td>\n",
              "      <td>0.264312</td>\n",
              "      <td>0.226553</td>\n",
              "      <td>0.073082</td>\n",
              "      <td>0.276498</td>\n",
              "      <td>1.220455</td>\n",
              "      <td>0.013201</td>\n",
              "      <td>1.069032</td>\n",
              "      <td>1</td>\n",
              "      <td>1</td>\n",
              "    </tr>\n",
              "    <tr>\n",
              "      <th>46</th>\n",
              "      <td>(back)</td>\n",
              "      <td>(look)</td>\n",
              "      <td>0.205847</td>\n",
              "      <td>0.294762</td>\n",
              "      <td>0.073082</td>\n",
              "      <td>0.355030</td>\n",
              "      <td>1.204460</td>\n",
              "      <td>0.012406</td>\n",
              "      <td>1.093442</td>\n",
              "      <td>1</td>\n",
              "      <td>1</td>\n",
              "    </tr>\n",
              "  </tbody>\n",
              "</table>\n",
              "</div>"
            ],
            "text/plain": [
              "    antecedents consequents  antecedent support  ...  conviction  ant_size  con_size\n",
              "181      (look)       (fit)            0.294762  ...    1.072509         1         1\n",
              "180       (fit)      (look)            0.264312  ...    1.085366         1         1\n",
              "202       (fit)      (size)            0.264312  ...    1.216936         1         1\n",
              "203      (size)       (fit)            0.192448  ...    1.367515         1         1\n",
              "122     (dress)      (look)            0.259440  ...    1.035970         1         1\n",
              "123      (look)     (dress)            0.294762  ...    1.029975         1         1\n",
              "192       (fit)   (ordered)            0.264312  ...    1.161581         1         1\n",
              "193   (ordered)       (fit)            0.186358  ...    1.279094         1         1\n",
              "302      (size)   (ordered)            0.192448  ...    1.339119         1         1\n",
              "258       (top)      (look)            0.226553  ...    1.057856         1         1\n",
              "259      (look)       (top)            0.294762  ...    1.039857         1         1\n",
              "303   (ordered)      (size)            0.186358  ...    1.357752         1         1\n",
              "157    (fabric)      (look)            0.239951  ...    1.029124         1         1\n",
              "156      (look)    (fabric)            0.294762  ...    1.021843         1         1\n",
              "118     (dress)       (fit)            0.259440  ...    1.030931         1         1\n",
              "119       (fit)     (dress)            0.264312  ...    1.030138         1         1\n",
              "47       (look)      (back)            0.294762  ...    1.055962         1         1\n",
              "207       (top)       (fit)            0.226553  ...    1.086016         1         1\n",
              "206       (fit)       (top)            0.264312  ...    1.069032         1         1\n",
              "46       (back)      (look)            0.205847  ...    1.093442         1         1\n",
              "\n",
              "[20 rows x 11 columns]"
            ]
          },
          "metadata": {
            "tags": []
          },
          "execution_count": 42
        }
      ]
    },
    {
      "cell_type": "code",
      "metadata": {
        "colab": {
          "base_uri": "https://localhost:8080/",
          "height": 990
        },
        "id": "qojMDVEB4DPj",
        "outputId": "fc316b4b-be19-4924-efd7-cb9b9b3aff0a"
      },
      "source": [
        "sets_df[0].sort_values(by='support', ascending=False).head(30)"
      ],
      "execution_count": null,
      "outputs": [
        {
          "output_type": "execute_result",
          "data": {
            "text/html": [
              "<div>\n",
              "<style scoped>\n",
              "    .dataframe tbody tr th:only-of-type {\n",
              "        vertical-align: middle;\n",
              "    }\n",
              "\n",
              "    .dataframe tbody tr th {\n",
              "        vertical-align: top;\n",
              "    }\n",
              "\n",
              "    .dataframe thead th {\n",
              "        text-align: right;\n",
              "    }\n",
              "</style>\n",
              "<table border=\"1\" class=\"dataframe\">\n",
              "  <thead>\n",
              "    <tr style=\"text-align: right;\">\n",
              "      <th></th>\n",
              "      <th>support</th>\n",
              "      <th>itemsets</th>\n",
              "      <th>size</th>\n",
              "    </tr>\n",
              "  </thead>\n",
              "  <tbody>\n",
              "    <tr>\n",
              "      <th>73</th>\n",
              "      <td>0.294762</td>\n",
              "      <td>(look)</td>\n",
              "      <td>1</td>\n",
              "    </tr>\n",
              "    <tr>\n",
              "      <th>52</th>\n",
              "      <td>0.264312</td>\n",
              "      <td>(fit)</td>\n",
              "      <td>1</td>\n",
              "    </tr>\n",
              "    <tr>\n",
              "      <th>41</th>\n",
              "      <td>0.259440</td>\n",
              "      <td>(dress)</td>\n",
              "      <td>1</td>\n",
              "    </tr>\n",
              "    <tr>\n",
              "      <th>48</th>\n",
              "      <td>0.239951</td>\n",
              "      <td>(fabric)</td>\n",
              "      <td>1</td>\n",
              "    </tr>\n",
              "    <tr>\n",
              "      <th>155</th>\n",
              "      <td>0.226553</td>\n",
              "      <td>(top)</td>\n",
              "      <td>1</td>\n",
              "    </tr>\n",
              "    <tr>\n",
              "      <th>10</th>\n",
              "      <td>0.205847</td>\n",
              "      <td>(back)</td>\n",
              "      <td>1</td>\n",
              "    </tr>\n",
              "    <tr>\n",
              "      <th>0</th>\n",
              "      <td>0.198538</td>\n",
              "      <td>()</td>\n",
              "      <td>1</td>\n",
              "    </tr>\n",
              "    <tr>\n",
              "      <th>133</th>\n",
              "      <td>0.192448</td>\n",
              "      <td>(size)</td>\n",
              "      <td>1</td>\n",
              "    </tr>\n",
              "    <tr>\n",
              "      <th>92</th>\n",
              "      <td>0.186358</td>\n",
              "      <td>(ordered)</td>\n",
              "      <td>1</td>\n",
              "    </tr>\n",
              "    <tr>\n",
              "      <th>82</th>\n",
              "      <td>0.175396</td>\n",
              "      <td>(material)</td>\n",
              "      <td>1</td>\n",
              "    </tr>\n",
              "    <tr>\n",
              "      <th>28</th>\n",
              "      <td>0.169306</td>\n",
              "      <td>(color)</td>\n",
              "      <td>1</td>\n",
              "    </tr>\n",
              "    <tr>\n",
              "      <th>167</th>\n",
              "      <td>0.166870</td>\n",
              "      <td>(wear)</td>\n",
              "      <td>1</td>\n",
              "    </tr>\n",
              "    <tr>\n",
              "      <th>43</th>\n",
              "      <td>0.164434</td>\n",
              "      <td>(even)</td>\n",
              "      <td>1</td>\n",
              "    </tr>\n",
              "    <tr>\n",
              "      <th>136</th>\n",
              "      <td>0.159562</td>\n",
              "      <td>(small)</td>\n",
              "      <td>1</td>\n",
              "    </tr>\n",
              "    <tr>\n",
              "      <th>90</th>\n",
              "      <td>0.158343</td>\n",
              "      <td>(one)</td>\n",
              "      <td>1</td>\n",
              "    </tr>\n",
              "    <tr>\n",
              "      <th>74</th>\n",
              "      <td>0.136419</td>\n",
              "      <td>(looked)</td>\n",
              "      <td>1</td>\n",
              "    </tr>\n",
              "    <tr>\n",
              "      <th>111</th>\n",
              "      <td>0.135201</td>\n",
              "      <td>(quality)</td>\n",
              "      <td>1</td>\n",
              "    </tr>\n",
              "    <tr>\n",
              "      <th>114</th>\n",
              "      <td>0.133983</td>\n",
              "      <td>(retailer)</td>\n",
              "      <td>1</td>\n",
              "    </tr>\n",
              "    <tr>\n",
              "      <th>166</th>\n",
              "      <td>0.132765</td>\n",
              "      <td>(way)</td>\n",
              "      <td>1</td>\n",
              "    </tr>\n",
              "    <tr>\n",
              "      <th>86</th>\n",
              "      <td>0.121803</td>\n",
              "      <td>(much)</td>\n",
              "      <td>1</td>\n",
              "    </tr>\n",
              "    <tr>\n",
              "      <th>37</th>\n",
              "      <td>0.121803</td>\n",
              "      <td>(disappointed)</td>\n",
              "      <td>1</td>\n",
              "    </tr>\n",
              "    <tr>\n",
              "      <th>80</th>\n",
              "      <td>0.118149</td>\n",
              "      <td>(made)</td>\n",
              "      <td>1</td>\n",
              "    </tr>\n",
              "    <tr>\n",
              "      <th>129</th>\n",
              "      <td>0.115713</td>\n",
              "      <td>(shirt)</td>\n",
              "      <td>1</td>\n",
              "    </tr>\n",
              "    <tr>\n",
              "      <th>78</th>\n",
              "      <td>0.115713</td>\n",
              "      <td>(love)</td>\n",
              "      <td>1</td>\n",
              "    </tr>\n",
              "    <tr>\n",
              "      <th>33</th>\n",
              "      <td>0.113276</td>\n",
              "      <td>(cute)</td>\n",
              "      <td>1</td>\n",
              "    </tr>\n",
              "    <tr>\n",
              "      <th>156</th>\n",
              "      <td>0.102314</td>\n",
              "      <td>(tried)</td>\n",
              "      <td>1</td>\n",
              "    </tr>\n",
              "    <tr>\n",
              "      <th>148</th>\n",
              "      <td>0.101096</td>\n",
              "      <td>(thin)</td>\n",
              "      <td>1</td>\n",
              "    </tr>\n",
              "    <tr>\n",
              "      <th>30</th>\n",
              "      <td>0.101096</td>\n",
              "      <td>(could)</td>\n",
              "      <td>1</td>\n",
              "    </tr>\n",
              "    <tr>\n",
              "      <th>55</th>\n",
              "      <td>0.097442</td>\n",
              "      <td>(get)</td>\n",
              "      <td>1</td>\n",
              "    </tr>\n",
              "    <tr>\n",
              "      <th>118</th>\n",
              "      <td>0.096224</td>\n",
              "      <td>(review)</td>\n",
              "      <td>1</td>\n",
              "    </tr>\n",
              "  </tbody>\n",
              "</table>\n",
              "</div>"
            ],
            "text/plain": [
              "      support        itemsets  size\n",
              "73   0.294762          (look)     1\n",
              "52   0.264312           (fit)     1\n",
              "41   0.259440         (dress)     1\n",
              "48   0.239951        (fabric)     1\n",
              "155  0.226553           (top)     1\n",
              "10   0.205847          (back)     1\n",
              "0    0.198538              ()     1\n",
              "133  0.192448          (size)     1\n",
              "92   0.186358       (ordered)     1\n",
              "82   0.175396      (material)     1\n",
              "28   0.169306         (color)     1\n",
              "167  0.166870          (wear)     1\n",
              "43   0.164434          (even)     1\n",
              "136  0.159562         (small)     1\n",
              "90   0.158343           (one)     1\n",
              "74   0.136419        (looked)     1\n",
              "111  0.135201       (quality)     1\n",
              "114  0.133983      (retailer)     1\n",
              "166  0.132765           (way)     1\n",
              "86   0.121803          (much)     1\n",
              "37   0.121803  (disappointed)     1\n",
              "80   0.118149          (made)     1\n",
              "129  0.115713         (shirt)     1\n",
              "78   0.115713          (love)     1\n",
              "33   0.113276          (cute)     1\n",
              "156  0.102314         (tried)     1\n",
              "148  0.101096          (thin)     1\n",
              "30   0.101096         (could)     1\n",
              "55   0.097442           (get)     1\n",
              "118  0.096224        (review)     1"
            ]
          },
          "metadata": {
            "tags": []
          },
          "execution_count": 43
        }
      ]
    },
    {
      "cell_type": "code",
      "metadata": {
        "colab": {
          "base_uri": "https://localhost:8080/"
        },
        "id": "wFulDJ_hc_mC",
        "outputId": "45da9a11-a795-4f49-f294-3ad2c93290a7"
      },
      "source": [
        "'love' in frozenset({'love'})"
      ],
      "execution_count": null,
      "outputs": [
        {
          "output_type": "execute_result",
          "data": {
            "text/plain": [
              "True"
            ]
          },
          "metadata": {
            "tags": []
          },
          "execution_count": 44
        }
      ]
    },
    {
      "cell_type": "code",
      "metadata": {
        "id": "T7hu7iyq-ekb"
      },
      "source": [
        "def plot_word_freq(sets_df, word):\r\n",
        "    supports = []\r\n",
        "    for set_df in sets_df:\r\n",
        "        found=False\r\n",
        "        for i in range(set_df.values.shape[0]):\r\n",
        "            if word in set_df.values[i][1] and set_df.values[i][2] == 1:\r\n",
        "                support = set_df.values[i][0]\r\n",
        "                supports.append(support)\r\n",
        "                found=True\r\n",
        "        if found == False:\r\n",
        "            supports.append(0)\r\n",
        "\r\n",
        "    supports_df = pd.DataFrame({'support' : supports})\r\n",
        "    #print(supports_df)\r\n",
        "    supports_df.plot(kind='bar')\r\n",
        "    plt.show()"
      ],
      "execution_count": null,
      "outputs": []
    },
    {
      "cell_type": "code",
      "metadata": {
        "colab": {
          "base_uri": "https://localhost:8080/",
          "height": 262
        },
        "id": "l9ZsoxdvHGPN",
        "outputId": "61df5bb3-3690-47b3-96e8-bf5b7317a36d"
      },
      "source": [
        "plot_word_freq(sets_df, 'love')"
      ],
      "execution_count": null,
      "outputs": [
        {
          "output_type": "display_data",
          "data": {
            "image/png": "[encoded data removed]",
            "text/plain": [
              "<Figure size 432x288 with 1 Axes>"
            ]
          },
          "metadata": {
            "tags": [],
            "needs_background": "light"
          }
        }
      ]
    },
    {
      "cell_type": "code",
      "metadata": {
        "id": "JMWtlRLCLdgG",
        "colab": {
          "base_uri": "https://localhost:8080/",
          "height": 262
        },
        "outputId": "dabaa068-bd75-454e-b4d1-c2c470aacc5a"
      },
      "source": [
        "plot_word_freq(sets_df, 'beautiful')"
      ],
      "execution_count": null,
      "outputs": [
        {
          "output_type": "display_data",
          "data": {
            "image/png": "[encoded data removed]",
            "text/plain": [
              "<Figure size 432x288 with 1 Axes>"
            ]
          },
          "metadata": {
            "tags": [],
            "needs_background": "light"
          }
        }
      ]
    },
    {
      "cell_type": "code",
      "metadata": {
        "colab": {
          "base_uri": "https://localhost:8080/",
          "height": 262
        },
        "id": "O_IDkGCtebLm",
        "outputId": "cd4570c5-6950-4e2c-9d91-ae39db85b0c4"
      },
      "source": [
        "plot_word_freq(sets_df, 'cute')"
      ],
      "execution_count": null,
      "outputs": [
        {
          "output_type": "display_data",
          "data": {
            "image/png": "[encoded data removed]",
            "text/plain": [
              "<Figure size 432x288 with 1 Axes>"
            ]
          },
          "metadata": {
            "tags": [],
            "needs_background": "light"
          }
        }
      ]
    },
    {
      "cell_type": "code",
      "metadata": {
        "colab": {
          "base_uri": "https://localhost:8080/",
          "height": 262
        },
        "id": "itxq8AXQejQP",
        "outputId": "70d3dcf3-a5c3-4daa-a3c1-095597e5fad3"
      },
      "source": [
        "plot_word_freq(sets_df, 'bad')"
      ],
      "execution_count": null,
      "outputs": [
        {
          "output_type": "display_data",
          "data": {
            "image/png": "[encoded data removed]",
            "text/plain": [
              "<Figure size 432x288 with 1 Axes>"
            ]
          },
          "metadata": {
            "tags": [],
            "needs_background": "light"
          }
        }
      ]
    },
    {
      "cell_type": "code",
      "metadata": {
        "colab": {
          "base_uri": "https://localhost:8080/",
          "height": 264
        },
        "id": "rOmORs-teqIr",
        "outputId": "64bedb5b-cc3a-468a-f182-c41b76433a63"
      },
      "source": [
        "plot_word_freq(sets_df, 'small')"
      ],
      "execution_count": null,
      "outputs": [
        {
          "output_type": "display_data",
          "data": {
            "image/png": "[encoded data removed]",
            "text/plain": [
              "<Figure size 432x288 with 1 Axes>"
            ]
          },
          "metadata": {
            "tags": [],
            "needs_background": "light"
          }
        }
      ]
    },
    {
      "cell_type": "code",
      "metadata": {
        "colab": {
          "base_uri": "https://localhost:8080/",
          "height": 263
        },
        "id": "8qBRHoFQe-o-",
        "outputId": "510426d7-3fff-4f6e-b794-60dfd577358b"
      },
      "source": [
        "plot_word_freq(sets_df, 'quality')"
      ],
      "execution_count": null,
      "outputs": [
        {
          "output_type": "display_data",
          "data": {
            "image/png": "[encoded data removed]",
            "text/plain": [
              "<Figure size 432x288 with 1 Axes>"
            ]
          },
          "metadata": {
            "tags": [],
            "needs_background": "light"
          }
        }
      ]
    },
    {
      "cell_type": "code",
      "metadata": {
        "colab": {
          "base_uri": "https://localhost:8080/",
          "height": 262
        },
        "id": "y9NbotEffGUE",
        "outputId": "f198d983-6e1b-447a-c8d2-64ba6475e637"
      },
      "source": [
        "plot_word_freq(sets_df, 'however')"
      ],
      "execution_count": null,
      "outputs": [
        {
          "output_type": "display_data",
          "data": {
            "image/png": "[encoded data removed]",
            "text/plain": [
              "<Figure size 432x288 with 1 Axes>"
            ]
          },
          "metadata": {
            "tags": [],
            "needs_background": "light"
          }
        }
      ]
    },
    {
      "cell_type": "code",
      "metadata": {
        "colab": {
          "base_uri": "https://localhost:8080/",
          "height": 262
        },
        "id": "NUMqEB2efL2P",
        "outputId": "e2abce3b-f65e-41c1-8a12-47031ceae05d"
      },
      "source": [
        "plot_word_freq(sets_df, 'disappointed')"
      ],
      "execution_count": null,
      "outputs": [
        {
          "output_type": "display_data",
          "data": {
            "image/png": "[encoded data removed]",
            "text/plain": [
              "<Figure size 432x288 with 1 Axes>"
            ]
          },
          "metadata": {
            "tags": [],
            "needs_background": "light"
          }
        }
      ]
    },
    {
      "cell_type": "code",
      "metadata": {
        "colab": {
          "base_uri": "https://localhost:8080/",
          "height": 262
        },
        "id": "bWF468C4fUG0",
        "outputId": "9c170b1a-6608-4728-cc58-1867ce6978eb"
      },
      "source": [
        "plot_word_freq(sets_df, 'fit')"
      ],
      "execution_count": null,
      "outputs": [
        {
          "output_type": "display_data",
          "data": {
            "image/png": "[encoded data removed]",
            "text/plain": [
              "<Figure size 432x288 with 1 Axes>"
            ]
          },
          "metadata": {
            "tags": [],
            "needs_background": "light"
          }
        }
      ]
    },
    {
      "cell_type": "code",
      "metadata": {
        "colab": {
          "base_uri": "https://localhost:8080/"
        },
        "id": "r54wHf7Dop4F",
        "outputId": "8e4e65ec-33ac-4c22-c4f8-893454f9cdf3"
      },
      "source": [
        "set_df = sets_df[0].copy()\r\n",
        "set_df['word'] = set_df['itemsets'].apply(lambda x: list(x)[0])\r\n",
        "set_df.set_index('word', inplace=True)\r\n",
        "set_df.info()\r\n",
        "#set_df.head(20)\r\n",
        "#set_df.loc['love']['support']"
      ],
      "execution_count": null,
      "outputs": [
        {
          "output_type": "stream",
          "text": [
            "<class 'pandas.core.frame.DataFrame'>\n",
            "Index: 374 entries,  to wear\n",
            "Data columns (total 3 columns):\n",
            " #   Column    Non-Null Count  Dtype  \n",
            "---  ------    --------------  -----  \n",
            " 0   support   374 non-null    float64\n",
            " 1   itemsets  374 non-null    object \n",
            " 2   size      374 non-null    int64  \n",
            "dtypes: float64(1), int64(1), object(1)\n",
            "memory usage: 11.7+ KB\n"
          ],
          "name": "stdout"
        }
      ]
    },
    {
      "cell_type": "code",
      "metadata": {
        "id": "O1RBCw2DgMrZ"
      },
      "source": [
        "import seaborn as sns\r\n",
        "\r\n",
        "def rule_heatmap(rules_df, sets_df, rating):\r\n",
        "    df = rules_df[rating-1].copy()\r\n",
        "    set_df = sets_df[rating-1].copy()\r\n",
        "    set_df['word'] = set_df['itemsets'].apply(lambda x: list(x)[0])\r\n",
        "    set_df.set_index('word', inplace=True)\r\n",
        "    df['antecedents_aux'] = df['antecedents'].apply(lambda x: list(x)[0])\r\n",
        "    df['consequents_aux'] = df['consequents'].apply(lambda x: list(x)[0])\r\n",
        "    unique_vals = pd.unique(df['antecedents_aux']) \r\n",
        "    for i in range(len(unique_vals)):\r\n",
        "        for j in range(len(unique_vals)):\r\n",
        "            i_val = unique_vals[i]\r\n",
        "            j_val = unique_vals[j]\r\n",
        "            # Por alguna razon esta parte del codigo provoca algun error, por lo cual la diagonal del mapa de calor se mostrara negra\r\n",
        "            #if i_val == j_val:\r\n",
        "            #    row = {}\r\n",
        "            #    for column in df.columns:\r\n",
        "            #        if column == 'antecedents_aux':\r\n",
        "            #            row[column] = [i_val]\r\n",
        "            #        elif column == 'consequents_aux':\r\n",
        "            #            row[column] = [j_val]\r\n",
        "            #        elif column == 'support':\r\n",
        "            #            row[column] = [np.float64(set_df.loc[i_val]['support'])]\r\n",
        "                        #if len(row[column]) > 1:\r\n",
        "                        #    print('hola')\r\n",
        "            #        else:\r\n",
        "            #            row[column] = [np.NaN]\r\n",
        "            #    df = pd.concat([df, pd.DataFrame(row)], axis=0)\r\n",
        "            if df.loc[(df['antecedents_aux'] == i_val) & (df['consequents_aux'] == j_val)].shape[0] == 0:\r\n",
        "                row = {}\r\n",
        "                for column in df.columns:\r\n",
        "                    if column == 'antecedents_aux':\r\n",
        "                        row[column] = [i_val]\r\n",
        "                    elif column == 'consequents_aux':\r\n",
        "                        row[column] = [j_val]\r\n",
        "                    elif column == 'support':\r\n",
        "                        row[column] = [np.float64(0.0)]\r\n",
        "                    else:\r\n",
        "                        row[column] = [np.NaN]\r\n",
        "                df = pd.concat([df, pd.DataFrame(row)], axis=0)\r\n",
        "    #df.reset_index(inplace=True)\r\n",
        "    #print(df[['support', 'antecedents_aux', 'consequents_aux']])\r\n",
        "    figure, ax = plt.subplots(figsize=(17, 20))\r\n",
        "    ax = sns.heatmap(df.pivot(\"antecedents_aux\", \"consequents_aux\", \"support\"))\r\n",
        "    plt.show()"
      ],
      "execution_count": null,
      "outputs": []
    },
    {
      "cell_type": "code",
      "metadata": {
        "id": "DblNO2ngy_6z"
      },
      "source": [
        ""
      ],
      "execution_count": null,
      "outputs": []
    },
    {
      "cell_type": "code",
      "metadata": {
        "colab": {
          "base_uri": "https://localhost:8080/",
          "height": 1000
        },
        "id": "stk-nrNMoHOR",
        "outputId": "4a3673d4-d20e-4ed8-cf86-113a8aca1283"
      },
      "source": [
        "rule_heatmap(rules_df, sets_df, 3)"
      ],
      "execution_count": null,
      "outputs": [
        {
          "output_type": "display_data",
          "data": {
            "image/png": "[encoded data removed]",
            "text/plain": [
              "<Figure size 1224x1440 with 2 Axes>"
            ]
          },
          "metadata": {
            "tags": [],
            "needs_background": "light"
          }
        }
      ]
    },
    {
      "cell_type": "code",
      "metadata": {
        "id": "kwZVFJftoLFJ"
      },
      "source": [
        ""
      ],
      "execution_count": null,
      "outputs": []
    }
  ]
}